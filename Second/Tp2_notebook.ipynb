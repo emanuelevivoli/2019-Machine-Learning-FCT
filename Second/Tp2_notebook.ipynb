{
 "cells": [
  {
   "cell_type": "code",
   "execution_count": 1,
   "metadata": {},
   "outputs": [],
   "source": [
    "from utils import *\n",
    "\n",
    "# libraries for Dimensionality Reduction\n",
    "from sklearn.decomposition import PCA\n",
    "from sklearn.manifold import TSNE\n",
    "from sklearn.manifold import Isomap\n",
    "\n",
    "# libraries for features selectiona\n",
    "# ANOVA F-test\n",
    "from sklearn.feature_selection import f_classif\n",
    "from sklearn import datasets\n",
    "\n",
    "# library for standardize features\n",
    "from sklearn.preprocessing import StandardScaler\n",
    "\n",
    "# libraries for epsilon parameter\n",
    "from sklearn.neighbors import NearestNeighbors\n",
    "\n",
    "# libraries for Clustering\n",
    "from sklearn.cluster import DBSCAN\n",
    "from sklearn.cluster import KMeans\n",
    "\n",
    "# libraries for Adjusted Rand Index\n",
    "from sklearn.metrics import adjusted_rand_score\n",
    "from sklearn.metrics import silhouette_score\n",
    "\n",
    "# libraries for general utilities\n",
    "import numpy as np \n",
    "from matplotlib import pyplot as plt\n",
    "\n",
    "# global variables from work specifications\n",
    "SEED = 42\n",
    "set_seed(SEED)\n",
    "NUMBER_FEATURES = 6\n",
    "NEIGHBOURS = 5"
   ]
  },
  {
   "cell_type": "code",
   "execution_count": 2,
   "metadata": {},
   "outputs": [],
   "source": [
    "def findEpsParams(features):\n",
    "    \n",
    "    neigh = NearestNeighbors(n_neighbors=NEIGHBOURS)\n",
    "    nbrs = neigh.fit(features)\n",
    "    distances, indices = nbrs.kneighbors(features)\n",
    "    \n",
    "    print(distances)\n",
    "\n",
    "    distances = np.sort(distances, axis=0)[:,NEIGHBOURS-1]\n",
    "    plt.plot(distances)\n",
    "    plt.show()\n",
    "\n",
    "    return 0.3"
   ]
  },
  {
   "cell_type": "code",
   "execution_count": 3,
   "metadata": {},
   "outputs": [],
   "source": [
    "##\n",
    "## DATASET LOADING\n",
    "##\n",
    "\n",
    "# create the loader class and load dataset and labels\n",
    "loader = Loader().load()\n",
    "\n",
    "# get dataset, labels, and dataset splitted by classes\n",
    "dataset = loader.getDataset()\n",
    "labels = loader.getLabels()\n",
    "class_split_dataset = loader.getClassSplitDataset()\n",
    "\n"
   ]
  },
  {
   "cell_type": "code",
   "execution_count": 4,
   "metadata": {},
   "outputs": [
    {
     "data": {
      "text/plain": [
       "(563, 2500)"
      ]
     },
     "execution_count": 4,
     "metadata": {},
     "output_type": "execute_result"
    }
   ],
   "source": [
    "dataset.shape"
   ]
  },
  {
   "cell_type": "code",
   "execution_count": 5,
   "metadata": {},
   "outputs": [],
   "source": [
    "##\n",
    "## FEATURES CREATION\n",
    "##\n",
    "\n",
    "# extract 6 features wirh PCA\n",
    "pca = PCA(n_components=NUMBER_FEATURES)\n",
    "pca_dataset_embedded = pca.fit_transform(dataset)\n",
    "\n",
    "# extract 6 features wirh t-sne\n",
    "tsne = TSNE(n_components=NUMBER_FEATURES, method='exact')\n",
    "tsne_dataset_embedded = tsne.fit_transform(dataset)\n",
    "\n",
    "# extract 6 features wirh isomap\n",
    "isomap = Isomap(n_components=NUMBER_FEATURES)\n",
    "isomap_dataset_embedded = isomap.fit_transform(dataset)\n",
    "\n",
    "# features concatenate (6,6,6) = 18 features\n",
    "features = np.concatenate((pca_dataset_embedded,tsne_dataset_embedded, isomap_dataset_embedded), axis=1)"
   ]
  },
  {
   "cell_type": "code",
   "execution_count": 6,
   "metadata": {},
   "outputs": [
    {
     "data": {
      "text/plain": [
       "(563, 6)"
      ]
     },
     "execution_count": 6,
     "metadata": {},
     "output_type": "execute_result"
    }
   ],
   "source": [
    "pca_dataset_embedded.shape"
   ]
  },
  {
   "cell_type": "code",
   "execution_count": 7,
   "metadata": {},
   "outputs": [
    {
     "data": {
      "text/plain": [
       "array([[-1.82143846e+03, -6.63846333e+02,  7.06981213e+02,\n",
       "         2.37248955e+02,  1.60360027e+02,  5.28306558e+02,\n",
       "         7.72390461e+00, -2.49152708e+00,  6.92456770e+00,\n",
       "        -1.39344387e+01,  2.19988136e+01, -3.38421202e+00,\n",
       "        -5.85896495e+03, -1.55769827e+02,  4.57229126e+02,\n",
       "         5.83601092e+02,  5.40286541e+02,  2.36721532e+03],\n",
       "       [ 1.03153662e+03,  5.36641403e+02,  6.57672061e+02,\n",
       "         1.33847115e+03, -3.38104282e+02, -6.36852334e+02,\n",
       "         3.74526834e+00, -8.44711399e+00, -4.67220879e+00,\n",
       "         4.46410942e+00, -1.91819363e+01, -3.70564532e+00,\n",
       "         1.00839856e+03,  3.53220828e+03,  3.38657939e+02,\n",
       "         2.94287615e+03, -1.45621664e+03,  7.69372197e+00],\n",
       "       [-1.03628366e+03, -6.75668234e+02, -4.66837833e+02,\n",
       "        -1.87282961e+02,  1.15935676e+02,  1.15187160e+02,\n",
       "        -6.67192173e+00, -3.88297009e+00,  1.18621445e+01,\n",
       "         2.56959867e+00,  4.08542871e+00,  5.07367373e+00,\n",
       "        -1.99202934e+03, -1.85770786e+03,  8.14116373e+02,\n",
       "        -4.84515862e+02,  1.85292166e+02, -3.36176246e+02],\n",
       "       [ 6.07963000e+02, -2.08304776e+01,  3.60157614e+02,\n",
       "        -7.95042032e+02,  1.28320739e+03,  6.96629076e+02,\n",
       "        -3.47680712e+00, -1.45419061e+00, -1.54201162e+00,\n",
       "         8.27398837e-01, -4.04021883e+00, -5.95687199e+00,\n",
       "         7.24398839e+02,  6.89793718e+01,  5.80555727e+02,\n",
       "        -1.78203288e+03,  2.82634875e+03, -1.32694701e+03]])"
      ]
     },
     "execution_count": 7,
     "metadata": {},
     "output_type": "execute_result"
    }
   ],
   "source": [
    "features[1:5,:]"
   ]
  },
  {
   "cell_type": "code",
   "execution_count": 8,
   "metadata": {},
   "outputs": [],
   "source": [
    "# standardization\n",
    "scaler = StandardScaler()\n",
    "features_std = scaler.fit_transform(features)"
   ]
  },
  {
   "cell_type": "code",
   "execution_count": 9,
   "metadata": {},
   "outputs": [
    {
     "name": "stdout",
     "output_type": "stream",
     "text": [
      "(563, 18)\n",
      "(563, 2)\n"
     ]
    }
   ],
   "source": [
    "print(features_std.shape)\n",
    "print(labels.shape)"
   ]
  },
  {
   "cell_type": "code",
   "execution_count": 10,
   "metadata": {},
   "outputs": [
    {
     "name": "stdout",
     "output_type": "stream",
     "text": [
      "[12.79637841 19.24821341 32.71839925  0.63172337  3.43336257  1.89895973\n",
      "  3.52326974  1.99106122  0.88030932  0.3459137   5.20874744  3.13436264\n",
      " 14.04786286 41.31820477  5.37225413  5.7198292   6.81730345  1.3927433 ]\n",
      "[4.25350548e-08 6.86097946e-12 1.70256366e-19 5.94769523e-01\n",
      " 1.68207626e-02 1.28643767e-01 1.48939918e-02 1.14227316e-01\n",
      " 4.51028922e-01 7.92129373e-01 1.48683101e-03 2.51736599e-02\n",
      " 7.69520113e-09 3.96454630e-24 1.18712751e-03 7.35260521e-04\n",
      " 1.61480141e-04 2.44046422e-01]\n"
     ]
    }
   ],
   "source": [
    "##\n",
    "## FEATURES EXTRACTION\n",
    "##\n",
    "\n",
    "# selection with ANOVA F-test\n",
    "f,prob = f_classif(features_std, labels[:,1])\n",
    "print(f)\n",
    "print(prob)"
   ]
  },
  {
   "cell_type": "code",
   "execution_count": 11,
   "metadata": {},
   "outputs": [
    {
     "name": "stdout",
     "output_type": "stream",
     "text": [
      "[[0.         2.31755361 2.37708108 2.46729618 2.58478541]\n",
      " [0.         1.03850151 1.60137331 1.69396241 1.70009658]\n",
      " [0.         2.98961102 3.10353518 3.27869244 3.43560942]\n",
      " ...\n",
      " [0.         1.62966766 2.06761589 2.14452765 2.29181691]\n",
      " [0.         1.66479604 1.89621405 2.25945712 2.59020299]\n",
      " [0.         1.33776795 1.44364968 1.63795172 1.68504467]]\n"
     ]
    },
    {
     "data": {
      "image/png": "[encoded data removed]",
      "text/plain": [
       "<Figure size 432x288 with 1 Axes>"
      ]
     },
     "metadata": {
      "needs_background": "light"
     },
     "output_type": "display_data"
    }
   ],
   "source": [
    "##\n",
    "##  CLUSTERING\n",
    "##\n",
    "\n",
    "# selecting manually the epsilon params for DBSCAN\n",
    "eps = findEpsParams(features_std)"
   ]
  },
  {
   "cell_type": "code",
   "execution_count": 12,
   "metadata": {},
   "outputs": [],
   "source": [
    "# clustering with DBSCAN\n",
    "dbscan = DBSCAN(eps=eps, min_samples=NEIGHBOURS)\n",
    "dbscan_labels = dbscan.fit_predict(features_std)\n",
    "\n",
    "# clustering with K-MEANS\n",
    "kmeans = KMeans(n_clusters=3)\n",
    "kmeans_labels = kmeans.fit_predict(features_std)"
   ]
  },
  {
   "cell_type": "code",
   "execution_count": 14,
   "metadata": {},
   "outputs": [],
   "source": [
    "import utilities as uti\n",
    "\n",
    "vlarray=uti.take_valid_labels(labels)\n",
    "\n",
    "featu=features_std\n",
    "\n",
    "val_int, val_ext= uti.kmeans_all_results(featu,10,vlarray)"
   ]
  },
  {
   "cell_type": "code",
   "execution_count": 15,
   "metadata": {},
   "outputs": [
    {
     "data": {
      "text/plain": [
       "[[2, 0.13004292443980894],\n",
       " [3, 0.11950021971268135],\n",
       " [4, 0.1222325860080927],\n",
       " [5, 0.13835080581886408],\n",
       " [6, 0.12978132763111008],\n",
       " [7, 0.1465417711558612],\n",
       " [8, 0.13736540713496637],\n",
       " [9, 0.14054016592970345],\n",
       " [10, 0.1307529771836282]]"
      ]
     },
     "execution_count": 15,
     "metadata": {},
     "output_type": "execute_result"
    }
   ],
   "source": [
    "val_int\n"
   ]
  },
  {
   "cell_type": "code",
   "execution_count": 16,
   "metadata": {},
   "outputs": [
    {
     "data": {
      "text/plain": [
       "[[2, 0.4837538327093017],\n",
       " [3, 0.3110691832241292],\n",
       " [4, 0.2552904363815557],\n",
       " [5, 0.22077747424422683],\n",
       " [6, 0.19071365000424872],\n",
       " [7, 0.06775338232883951],\n",
       " [8, 0.10879545019205838],\n",
       " [9, 0.12184703862421306],\n",
       " [10, 0.07516665246089275]]"
      ]
     },
     "execution_count": 16,
     "metadata": {},
     "output_type": "execute_result"
    }
   ],
   "source": [
    "val_ext"
   ]
  },
  {
   "cell_type": "code",
   "execution_count": null,
   "metadata": {},
   "outputs": [],
   "source": []
  }
 ],
 "metadata": {
  "kernelspec": {
   "display_name": "Python 3",
   "language": "python",
   "name": "python3"
  },
  "language_info": {
   "codemirror_mode": {
    "name": "ipython",
    "version": 3
   },
   "file_extension": ".py",
   "mimetype": "text/x-python",
   "name": "python",
   "nbconvert_exporter": "python",
   "pygments_lexer": "ipython3",
   "version": "3.7.3"
  }
 },
 "nbformat": 4,
 "nbformat_minor": 2
}
