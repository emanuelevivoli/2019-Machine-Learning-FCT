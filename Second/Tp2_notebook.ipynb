{
 "cells": [
  {
   "cell_type": "code",
   "execution_count": 64,
   "metadata": {},
   "outputs": [],
   "source": [
    "from utils import *\n",
    "\n",
    "# libraries for Dimensionality Reduction\n",
    "from sklearn.decomposition import PCA\n",
    "from sklearn.manifold import TSNE\n",
    "from sklearn.manifold import Isomap\n",
    "\n",
    "# libraries for features selectiona\n",
    "# ANOVA F-test\n",
    "from sklearn.feature_selection import f_classif\n",
    "from sklearn import datasets\n",
    "\n",
    "# library for standardize features\n",
    "from sklearn.preprocessing import StandardScaler\n",
    "\n",
    "# libraries for epsilon parameter\n",
    "from sklearn.neighbors import NearestNeighbors\n",
    "\n",
    "# libraries for Clustering\n",
    "from sklearn.cluster import DBSCAN\n",
    "from sklearn.cluster import KMeans\n",
    "\n",
    "# libraries for Adjusted Rand Index\n",
    "from sklearn.metrics import adjusted_rand_score\n",
    "from sklearn.metrics import silhouette_score\n",
    "\n",
    "# libraries for general utilities\n",
    "import numpy as np \n",
    "from matplotlib import pyplot as plt\n",
    "\n",
    "# global variables from work specifications\n",
    "SEED = 42\n",
    "set_seed(SEED)\n",
    "NUMBER_FEATURES = 6\n",
    "NEIGHBOURS = 5"
   ]
  },
  {
   "cell_type": "code",
   "execution_count": 65,
   "metadata": {},
   "outputs": [],
   "source": [
    "def findEpsParams(features):\n",
    "    \n",
    "    neigh = NearestNeighbors(n_neighbors=NEIGHBOURS)\n",
    "    nbrs = neigh.fit(features)\n",
    "    distances, indices = nbrs.kneighbors(features)\n",
    "    \n",
    "    print(distances)\n",
    "\n",
    "    distances = np.sort(distances, axis=0)[:,NEIGHBOURS-1]\n",
    "    plt.plot(distances)\n",
    "    plt.axhline(y=3.4, xmin=0, xmax=250, linestyle='-', c='red')\n",
    "    plt.show()\n",
    "\n",
    "    return 3.4"
   ]
  },
  {
   "cell_type": "code",
   "execution_count": 66,
   "metadata": {},
   "outputs": [],
   "source": [
    "##\n",
    "## DATASET LOADING\n",
    "##\n",
    "\n",
    "# create the loader class and load dataset and labels\n",
    "loader = Loader().load()\n",
    "\n",
    "# get dataset, labels, and dataset splitted by classes\n",
    "dataset = loader.getDataset()\n",
    "labels = loader.getLabels()\n",
    "class_split_dataset = loader.getClassSplitDataset()\n",
    "\n"
   ]
  },
  {
   "cell_type": "code",
   "execution_count": 67,
   "metadata": {},
   "outputs": [
    {
     "data": {
      "text/plain": [
       "(563, 2500)"
      ]
     },
     "execution_count": 67,
     "metadata": {},
     "output_type": "execute_result"
    }
   ],
   "source": [
    "dataset.shape"
   ]
  },
  {
   "cell_type": "code",
   "execution_count": 68,
   "metadata": {},
   "outputs": [],
   "source": [
    "##\n",
    "## FEATURES CREATION\n",
    "##\n",
    "\n",
    "# extract 6 features wirh PCA\n",
    "pca = PCA(n_components=NUMBER_FEATURES)\n",
    "pca_dataset_embedded = pca.fit_transform(dataset)\n",
    "\n",
    "# extract 6 features wirh t-sne\n",
    "tsne = TSNE(n_components=NUMBER_FEATURES, method='exact')\n",
    "tsne_dataset_embedded = tsne.fit_transform(dataset)\n",
    "\n",
    "# extract 6 features wirh isomap\n",
    "isomap = Isomap(n_components=NUMBER_FEATURES)\n",
    "isomap_dataset_embedded = isomap.fit_transform(dataset)\n",
    "\n",
    "# features concatenate (6,6,6) = 18 features\n",
    "features = np.concatenate((pca_dataset_embedded,tsne_dataset_embedded, isomap_dataset_embedded), axis=1)"
   ]
  },
  {
   "cell_type": "code",
   "execution_count": 69,
   "metadata": {},
   "outputs": [
    {
     "data": {
      "text/plain": [
       "(563, 6)"
      ]
     },
     "execution_count": 69,
     "metadata": {},
     "output_type": "execute_result"
    }
   ],
   "source": [
    "pca_dataset_embedded.shape"
   ]
  },
  {
   "cell_type": "code",
   "execution_count": 70,
   "metadata": {},
   "outputs": [],
   "source": [
    "# standardization\n",
    "scaler = StandardScaler()\n",
    "features_std = scaler.fit_transform(features)\n",
    "labels = labels[:,1]"
   ]
  },
  {
   "cell_type": "code",
   "execution_count": 71,
   "metadata": {},
   "outputs": [
    {
     "name": "stdout",
     "output_type": "stream",
     "text": [
      "(563, 18)\n",
      "(563,)\n"
     ]
    }
   ],
   "source": [
    "print(features_std.shape)\n",
    "print(labels.shape)"
   ]
  },
  {
   "cell_type": "code",
   "execution_count": 72,
   "metadata": {},
   "outputs": [
    {
     "name": "stdout",
     "output_type": "stream",
     "text": [
      "[13  2  1 12  0 16 15 14 10  6  4 11  7  5 17  8  3  9]\n",
      "[41.31820477 32.71839925 19.24821341 14.04786286 12.79637841  6.81730345\n",
      "  5.7198292   5.37225413  5.20874744  3.52326974  3.43336257  3.13436264\n",
      "  1.99106122  1.89895973  1.3927433   0.88030932  0.63172337  0.3459137 ]\n",
      "[3.96454630e-24 1.70256366e-19 6.86097946e-12 7.69520113e-09\n",
      " 4.25350548e-08 1.61480141e-04 7.35260521e-04 1.18712751e-03\n",
      " 1.48683101e-03 1.48939918e-02 1.68207626e-02 2.51736599e-02\n",
      " 1.14227316e-01 1.28643767e-01 2.44046422e-01 4.51028922e-01\n",
      " 5.94769523e-01 7.92129373e-01]\n"
     ]
    }
   ],
   "source": [
    "##\n",
    "## FEATURES EXTRACTION\n",
    "##\n",
    "\n",
    "# selection with ANOVA F-test\n",
    "f,prob = f_classif(features_std, labels)\n",
    "indexes = np.arange(len(f))\n",
    "app = [ [i, ele] for i, ele in enumerate(f)]\n",
    "app.sort(key = lambda app: app[1], reverse = True)\n",
    "indexes = np.array([ int(a) for a in np.array(app)[:,0]])\n",
    "print(indexes)\n",
    "f = f[indexes]\n",
    "print(f)\n",
    "prob = prob[indexes]\n",
    "print(prob)"
   ]
  },
  {
   "cell_type": "code",
   "execution_count": 73,
   "metadata": {},
   "outputs": [
    {
     "data": {
      "image/png": "[encoded data removed]",
      "text/plain": [
       "<Figure size 432x288 with 1 Axes>"
      ]
     },
     "metadata": {
      "needs_background": "light"
     },
     "output_type": "display_data"
    }
   ],
   "source": [
    "##\n",
    "## FEATURES SELECTION\n",
    "##\n",
    "\n",
    "plt.plot(f)\n",
    "plt.show()"
   ]
  },
  {
   "cell_type": "code",
   "execution_count": 74,
   "metadata": {},
   "outputs": [
    {
     "data": {
      "image/png": "[encoded data removed]",
      "text/plain": [
       "<Figure size 432x288 with 1 Axes>"
      ]
     },
     "metadata": {
      "needs_background": "light"
     },
     "output_type": "display_data"
    }
   ],
   "source": [
    "##\n",
    "## FEATURES SELECTION\n",
    "##\n",
    "\n",
    "plt.plot(prob)\n",
    "plt.show()"
   ]
  },
  {
   "cell_type": "code",
   "execution_count": 75,
   "metadata": {},
   "outputs": [
    {
     "name": "stdout",
     "output_type": "stream",
     "text": [
      "Classification accuracy without selecting features: 0.762\n",
      "Classification accuracy after univariate feature selection: 0.857\n"
     ]
    },
    {
     "data": {
      "image/png": "[encoded data removed]",
      "text/plain": [
       "<Figure size 432x288 with 1 Axes>"
      ]
     },
     "metadata": {
      "needs_background": "light"
     },
     "output_type": "display_data"
    }
   ],
   "source": [
    "# #############################################################################\n",
    "# Univariate feature selection with F-test for feature scoring\n",
    "# We use the default selection function to select the four\n",
    "# most significant features\n",
    "from sklearn.feature_selection import SelectKBest\n",
    "from sklearn.pipeline import make_pipeline\n",
    "from sklearn.preprocessing import MinMaxScaler\n",
    "from sklearn.svm import LinearSVC\n",
    "from sklearn.model_selection import train_test_split\n",
    "\n",
    "feat = features_std[labels!=0]\n",
    "lbs = labels[labels!=0]\n",
    "\n",
    "k_selection = 5\n",
    "\n",
    "# Some noisy data not correlated\n",
    "#E = np.random.RandomState(42).uniform(0, 0.1, size=(feat.shape[0], 20))\n",
    "\n",
    "# Add the noisy data to the informative features\n",
    "#feat = np.hstack((feat, E))\n",
    "\n",
    "# Split dataset to select feature and evaluate the classifier\n",
    "X_train, X_test, y_train, y_test = train_test_split(\n",
    "        feat, lbs, stratify=lbs, random_state=0\n",
    ")\n",
    "\n",
    "selector = SelectKBest(f_classif, k=k_selection)\n",
    "selector.fit(X_train, y_train)\n",
    "scores = -np.log10(selector.pvalues_)\n",
    "scores /= scores.max()\n",
    "X_indices = np.arange(feat.shape[-1])\n",
    "plt.bar(X_indices - .65, scores, width=.3,\n",
    "        label=r'Univariate score ($-Log(p_{value})$)', color='darkorange',\n",
    "        edgecolor='black')\n",
    "\n",
    "# #############################################################################\n",
    "# Compare to the weights of an SVM\n",
    "clf = make_pipeline(MinMaxScaler(), LinearSVC())\n",
    "clf.fit(X_train, y_train)\n",
    "print('Classification accuracy without selecting features: {:.3f}'\n",
    "      .format(clf.score(X_test, y_test)))\n",
    "\n",
    "svm_weights = np.abs(clf[-1].coef_).sum(axis=0)\n",
    "svm_weights /= svm_weights.sum()\n",
    "\n",
    "plt.bar(X_indices - .35, svm_weights, width=.3, label='SVM weight',\n",
    "        color='navy', edgecolor='black')\n",
    "\n",
    "clf_selected = make_pipeline(\n",
    "        SelectKBest(f_classif, k=k_selection), MinMaxScaler(), LinearSVC()\n",
    ")\n",
    "clf_selected.fit(X_train, y_train)\n",
    "print('Classification accuracy after univariate feature selection: {:.3f}'\n",
    "      .format(clf_selected.score(X_test, y_test)))\n",
    "\n",
    "svm_weights_selected = np.abs(clf_selected[-1].coef_).sum(axis=0)\n",
    "svm_weights_selected /= svm_weights_selected.sum()\n",
    "\n",
    "plt.bar(X_indices[selector.get_support()] - .05, svm_weights_selected,\n",
    "        width=.3, label='SVM weights after selection', color='c',\n",
    "        edgecolor='black')\n",
    "\n",
    "plt.title(\"Comparing feature selection\")\n",
    "plt.xlabel('Feature number')\n",
    "plt.yticks(())\n",
    "plt.axis('tight')\n",
    "plt.legend(loc='upper right')\n",
    "\n",
    "\n",
    "plt.show()"
   ]
  },
  {
   "cell_type": "code",
   "execution_count": null,
   "metadata": {},
   "outputs": [],
   "source": []
  },
  {
   "cell_type": "code",
   "execution_count": null,
   "metadata": {},
   "outputs": [],
   "source": []
  },
  {
   "cell_type": "code",
   "execution_count": null,
   "metadata": {},
   "outputs": [],
   "source": []
  },
  {
   "cell_type": "code",
   "execution_count": null,
   "metadata": {},
   "outputs": [],
   "source": []
  },
  {
   "cell_type": "code",
   "execution_count": null,
   "metadata": {},
   "outputs": [],
   "source": []
  },
  {
   "cell_type": "code",
   "execution_count": null,
   "metadata": {},
   "outputs": [],
   "source": []
  },
  {
   "cell_type": "code",
   "execution_count": null,
   "metadata": {},
   "outputs": [],
   "source": []
  },
  {
   "cell_type": "code",
   "execution_count": null,
   "metadata": {},
   "outputs": [],
   "source": [
    "##\n",
    "##  CLUSTERING\n",
    "##\n",
    "\n",
    "# selecting manually the epsilon params for DBSCAN\n",
    "eps = findEpsParams(features_std)"
   ]
  },
  {
   "cell_type": "code",
   "execution_count": null,
   "metadata": {},
   "outputs": [],
   "source": [
    "# clustering with DBSCAN\n",
    "dbscan = DBSCAN(eps=eps, min_samples=NEIGHBOURS)\n",
    "dbscan_labels = dbscan.fit_predict(features_std)\n",
    "\n",
    "# clustering with K-MEANS\n",
    "kmeans = KMeans(n_clusters=3)\n",
    "kmeans_labels = kmeans.fit_predict(features_std)"
   ]
  },
  {
   "cell_type": "code",
   "execution_count": null,
   "metadata": {},
   "outputs": [],
   "source": []
  }
 ],
 "metadata": {
  "kernelspec": {
   "display_name": "Python 3",
   "language": "python",
   "name": "python3"
  },
  "language_info": {
   "codemirror_mode": {
    "name": "ipython",
    "version": 3
   },
   "file_extension": ".py",
   "mimetype": "text/x-python",
   "name": "python",
   "nbconvert_exporter": "python",
   "pygments_lexer": "ipython3",
   "version": "3.7.4"
  }
 },
 "nbformat": 4,
 "nbformat_minor": 2
}
